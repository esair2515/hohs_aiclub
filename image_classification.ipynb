{
  "nbformat": 4,
  "nbformat_minor": 0,
  "metadata": {
    "colab": {
      "provenance": [],
      "include_colab_link": true
    },
    "kernelspec": {
      "name": "python3",
      "display_name": "Python 3"
    },
    "language_info": {
      "name": "python"
    }
  },
  "cells": [
    {
      "cell_type": "markdown",
      "metadata": {
        "id": "view-in-github",
        "colab_type": "text"
      },
      "source": [
        "<a href=\"https://colab.research.google.com/github/esair2515/hohs_aiclub/blob/main/image_classification.ipynb\" target=\"_parent\"><img src=\"https://colab.research.google.com/assets/colab-badge.svg\" alt=\"Open In Colab\"/></a>"
      ]
    },
    {
      "cell_type": "code",
      "execution_count": null,
      "metadata": {
        "colab": {
          "base_uri": "https://localhost:8080/",
          "height": 829
        },
        "id": "sx0t_8Oclbt0",
        "outputId": "d9b4dfd9-7b2c-4dac-e0f0-281d0e3a993e"
      },
      "outputs": [
        {
          "output_type": "stream",
          "name": "stdout",
          "text": [
            "Epoch 1/10\n",
            "250/250 [==============================] - 10s 34ms/step - loss: 0.8000 - accuracy: 0.7090\n",
            "Epoch 2/10\n",
            "250/250 [==============================] - 5s 21ms/step - loss: 0.4921 - accuracy: 0.8161\n",
            "Epoch 3/10\n",
            "250/250 [==============================] - 5s 18ms/step - loss: 0.4322 - accuracy: 0.8465\n",
            "Epoch 4/10\n",
            "250/250 [==============================] - 6s 23ms/step - loss: 0.3844 - accuracy: 0.8644\n",
            "Epoch 5/10\n",
            "250/250 [==============================] - 5s 18ms/step - loss: 0.3531 - accuracy: 0.8729\n",
            "Epoch 6/10\n",
            "250/250 [==============================] - 4s 18ms/step - loss: 0.3218 - accuracy: 0.8808\n",
            "Epoch 7/10\n",
            "250/250 [==============================] - 6s 22ms/step - loss: 0.3027 - accuracy: 0.8911\n",
            "Epoch 8/10\n",
            "250/250 [==============================] - 4s 17ms/step - loss: 0.2775 - accuracy: 0.8985\n",
            "Epoch 9/10\n",
            "250/250 [==============================] - 5s 19ms/step - loss: 0.2646 - accuracy: 0.9062\n",
            "Epoch 10/10\n",
            "250/250 [==============================] - 5s 20ms/step - loss: 0.2423 - accuracy: 0.9151\n",
            "250/250 [==============================] - 2s 9ms/step - loss: 0.3831 - accuracy: 0.8686\n",
            "250/250 [==============================] - 1s 5ms/step\n",
            "Prediction: Bag\n"
          ]
        },
        {
          "output_type": "display_data",
          "data": {
            "text/plain": [
              "<Figure size 640x480 with 1 Axes>"
            ],
            "image/png": "[encoded data removed]"
          },
          "metadata": {}
        }
      ],
      "source": [
        "import tensorflow as tf\n",
        "import numpy as np\n",
        "import matplotlib.pyplot as plt\n",
        "\n",
        "label_dictionary = {0:\"T-shirt\",1:\"Trouser\",2:\"Pullover\",3:\"Dress\",4:\"Coat\",\n",
        "                    5:\"Sandal\",6:\"Shirt\",7:\"Sneaker\",8:\"Bag\",9:\"Ankle boot\"}\n",
        "\n",
        "\n",
        "\n",
        "\n",
        "fmnist = tf.keras.datasets.fashion_mnist\n",
        "(training_images, training_labels), (test_images, test_labels) = fmnist.load_data()\n",
        "\n",
        "\n",
        "training_images = training_images / 255.0\n",
        "test_images = test_images / 255.0\n",
        "\n",
        "training_images = training_images[0:8000]\n",
        "test_images = test_images[0:8000]\n",
        "\n",
        "training_labels = training_labels[0:8000]\n",
        "test_labels = test_labels[0:8000]\n",
        "\n",
        "model = tf.keras.models.Sequential([\n",
        "\n",
        "\n",
        "  tf.keras.layers.Conv2D(32, (3,3), activation='relu', input_shape=(28, 28, 1)),\n",
        "  tf.keras.layers.MaxPooling2D(2, 2),\n",
        "  tf.keras.layers.Conv2D(32, (3,3), activation='relu'),\n",
        "  tf.keras.layers.MaxPooling2D(2,2),\n",
        "\n",
        "  tf.keras.layers.Flatten(),\n",
        "  tf.keras.layers.Dense(128, activation='relu'),\n",
        "  tf.keras.layers.Dense(10, activation='softmax')\n",
        "])\n",
        "\n",
        "model.compile(optimizer='adam', loss='sparse_categorical_crossentropy', metrics=['accuracy'])\n",
        "\n",
        "model.fit(training_images, training_labels, epochs=10)\n",
        "\n",
        "\n",
        "test = model.evaluate(test_images, test_labels)\n",
        "\n",
        "predictions = model.predict(test_images)\n",
        "\n",
        "index = 220\n",
        "\n",
        "plt.imshow(test_images[index])\n",
        "\n",
        "prediction = label_dictionary[np.argmax(predictions[index])]\n",
        "print(\"Prediction: {}\".format(prediction))\n",
        "\n",
        "\n"
      ]
    }
  ]
}